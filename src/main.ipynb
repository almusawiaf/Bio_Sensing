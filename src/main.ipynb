{
 "cells": [
  {
   "cell_type": "code",
   "execution_count": 46,
   "metadata": {},
   "outputs": [],
   "source": [
    "import pandas as pd\n",
    "data_path = '../Data'\n",
    "\n",
    "AF = f'{data_path}/FinalFeatures_AF.xlsx'\n",
    "DIC = f'{data_path}/FinalFeatures_DIC.xlsx'\n",
    "\n",
    "df1 = pd.read_excel(AF, engine='openpyxl')\n",
    "df2 = pd.read_excel(DIC, engine='openpyxl')"
   ]
  },
  {
   "cell_type": "code",
   "execution_count": 68,
   "metadata": {},
   "outputs": [
    {
     "name": "stdout",
     "output_type": "stream",
     "text": [
      "<class 'pandas.core.frame.DataFrame'>\n",
      "RangeIndex: 98 entries, 0 to 97\n",
      "Data columns (total 25 columns):\n",
      " #   Column                Non-Null Count  Dtype  \n",
      "---  ------                --------------  -----  \n",
      " 0   Class                 98 non-null     object \n",
      " 1   Cell Area             98 non-null     int64  \n",
      " 2   Cell Aspect Ratio     98 non-null     float64\n",
      " 3   Cell Diameter         98 non-null     float64\n",
      " 4   Nucleas Area          98 non-null     int64  \n",
      " 5   Nucleas Aspect Ratio  98 non-null     float64\n",
      " 6   Nulcleas Diameter     98 non-null     float64\n",
      " 7   Cytoplasm Area        98 non-null     int64  \n",
      " 8   NC Ratio              98 non-null     float64\n",
      " 9   Cellular Perimeter    98 non-null     float64\n",
      " 10  Nuclear Perimeter     98 non-null     float64\n",
      " 11  Cytoplasm Perimeter   98 non-null     float64\n",
      " 12  MeanGray              98 non-null     float64\n",
      " 13  Median                98 non-null     int64  \n",
      " 14  Variance              98 non-null     float64\n",
      " 15  StandaredDeviation    98 non-null     float64\n",
      " 16  Contrast              98 non-null     float64\n",
      " 17  Energy                98 non-null     float64\n",
      " 18  Entropy               98 non-null     float64\n",
      " 19  Homogenity            98 non-null     float64\n",
      " 20  Correlation           98 non-null     float64\n",
      " 21  AutoCorrelation       98 non-null     float64\n",
      " 22  ClusterProminence     98 non-null     float64\n",
      " 23  ClusterShade          98 non-null     float64\n",
      " 24  Dissimilarity         98 non-null     float64\n",
      "dtypes: float64(20), int64(4), object(1)\n",
      "memory usage: 19.3+ KB\n"
     ]
    }
   ],
   "source": [
    "df1.info()"
   ]
  },
  {
   "cell_type": "code",
   "execution_count": 69,
   "metadata": {},
   "outputs": [
    {
     "name": "stdout",
     "output_type": "stream",
     "text": [
      "<class 'pandas.core.frame.DataFrame'>\n",
      "RangeIndex: 105 entries, 0 to 104\n",
      "Data columns (total 35 columns):\n",
      " #   Column                Non-Null Count  Dtype  \n",
      "---  ------                --------------  -----  \n",
      " 0   Class                 105 non-null    object \n",
      " 1   Cell Area             99 non-null     float64\n",
      " 2   Cell Aspect Ratio     99 non-null     float64\n",
      " 3   Cell Diameter         99 non-null     float64\n",
      " 4   Nucleas Area          100 non-null    float64\n",
      " 5   Nucleas Aspect Ratio  100 non-null    float64\n",
      " 6   Nulcleas Diameter     100 non-null    float64\n",
      " 7   Cytoplasm Area        95 non-null     float64\n",
      " 8   NC Ratio              95 non-null     float64\n",
      " 9   Cellular Perimeter    99 non-null     float64\n",
      " 10  Nuclear Perimeter     100 non-null    float64\n",
      " 11  Cytoplasm Perimeter   95 non-null     float64\n",
      " 12  MaxGray               105 non-null    int64  \n",
      " 13  MinGray               105 non-null    int64  \n",
      " 14  MeanGray              105 non-null    float64\n",
      " 15  Median                105 non-null    int64  \n",
      " 16  Variance              105 non-null    float64\n",
      " 17  StandaredDeviation    105 non-null    float64\n",
      " 18  Contrast              105 non-null    float64\n",
      " 19  Energy                105 non-null    float64\n",
      " 20  Entropy               105 non-null    float64\n",
      " 21  Homogenity            105 non-null    float64\n",
      " 22  Correlation           105 non-null    float64\n",
      " 23  AutoCorrelation       105 non-null    float64\n",
      " 24  ClusterProminence     105 non-null    float64\n",
      " 25  ClusterShade          105 non-null    float64\n",
      " 26  Dissimilarity         105 non-null    float64\n",
      " 27  DifferenceVariance    105 non-null    float64\n",
      " 28  DifferenceEntropy     105 non-null    float64\n",
      " 29  InverseDifference     105 non-null    float64\n",
      " 30  MaxProbability        105 non-null    float64\n",
      " 31  SumAverage            105 non-null    float64\n",
      " 32  SumEntropy            105 non-null    float64\n",
      " 33  SumSquaresVariance    105 non-null    float64\n",
      " 34  SumVariance           105 non-null    float64\n",
      "dtypes: float64(31), int64(3), object(1)\n",
      "memory usage: 28.8+ KB\n"
     ]
    }
   ],
   "source": [
    "df2.info()"
   ]
  },
  {
   "cell_type": "code",
   "execution_count": 66,
   "metadata": {},
   "outputs": [
    {
     "name": "stdout",
     "output_type": "stream",
     "text": [
      "25 35\n",
      "0 10\n"
     ]
    }
   ],
   "source": [
    "print(len(df1.columns), len(df2.columns))\n",
    "\n",
    "A = set(df1.columns).intersection(set(df2.columns))\n",
    "B = [i for i in df2.columns if i not in A]\n",
    "print(len([i for i in df1.columns if i not in A]), len(B))"
   ]
  },
  {
   "cell_type": "code",
   "execution_count": 61,
   "metadata": {},
   "outputs": [
    {
     "data": {
      "text/plain": [
       "['MaxGray',\n",
       " 'MinGray',\n",
       " 'DifferenceVariance',\n",
       " 'DifferenceEntropy',\n",
       " 'InverseDifference',\n",
       " 'MaxProbability',\n",
       " 'SumAverage',\n",
       " 'SumEntropy',\n",
       " 'SumSquaresVariance',\n",
       " 'SumVariance']"
      ]
     },
     "execution_count": 61,
     "metadata": {},
     "output_type": "execute_result"
    }
   ],
   "source": [
    "B"
   ]
  },
  {
   "cell_type": "code",
   "execution_count": 51,
   "metadata": {},
   "outputs": [],
   "source": [
    "Morphological_features_SIZE = ['Cell Area',\n",
    " 'Nucleas Area',\n",
    " 'Cytoplasm Area',\n",
    " 'Cell Diameter',\n",
    " 'Cell Diameter',\n",
    " 'Nulcleas Diameter',\n",
    " 'Nulcleas Diameter',\n",
    " 'Cell Aspect Ratio',\n",
    " 'Nucleas Aspect Ratio',\n",
    " 'Cell Diameter',\n",
    " 'Nulcleas Diameter',\n",
    " 'NC Ratio']\n",
    "\n",
    "Morphological_features_SHAPE = ['Cellular Perimeter',\n",
    " 'Nuclear Perimeter',\n",
    " 'Cytoplasm Perimeter']\n",
    "\n",
    "\n",
    "haralick_texture_features = [\n",
    "    'Contrast',              # Contrast (local changes in image)\n",
    "    'Energy',                # Energy (uniformity of image)\n",
    "    'Entropy',               # Entropy (randomness of intensity)\n",
    "    'Homogenity',            # Homogeneity (similarity of pixels)\n",
    "    'Correlation',           # Correlation (pixel neighborhood correlation)\n",
    "    'Variance',              # Variance (uncertainty degree)\n",
    "    'DifferenceEntropy',     # Difference Entropy (difference among pixel entropy)\n",
    "    'SumVariance',           # Sum Variance (pixel uniformity)\n",
    "    'SumAverage',            # Sum Average (average of gray level)\n",
    "    # 'InverseDifferenceMoment', # Not explicitly in the dataset\n",
    "    'ClusterProminence',     # Cluster Prominence (normalized gray-tone spatial dependence)\n",
    "    # 'ClusterTendency',         # Not explicitly in the dataset\n",
    "    'ClusterShade',          # Cluster Shade (cubic normalized gray-tone)\n",
    "    # 'Inertia',                # Not explicitly in the dataset\n",
    "    'SumSquaresVariance',    # Sum of Square Variance (squared deviation)\n",
    "    # 'AngularSecondMoment',     # Not explicitly in the dataset\n",
    "    # 'InformationMeasureCorrelationI', # Not explicitly in the dataset\n",
    "    # 'InformationMeasureCorrelationII' # Not explicitly in the dataset\n",
    "]\n",
    "\n"
   ]
  },
  {
   "cell_type": "code",
   "execution_count": 62,
   "metadata": {},
   "outputs": [
    {
     "data": {
      "text/plain": [
       "27"
      ]
     },
     "execution_count": 62,
     "metadata": {},
     "output_type": "execute_result"
    }
   ],
   "source": [
    "G = Morphological_features_SHAPE + Morphological_features_SIZE + haralick_texture_features\n",
    "len(G)"
   ]
  }
 ],
 "metadata": {
  "kernelspec": {
   "display_name": "base",
   "language": "python",
   "name": "python3"
  },
  "language_info": {
   "codemirror_mode": {
    "name": "ipython",
    "version": 3
   },
   "file_extension": ".py",
   "mimetype": "text/x-python",
   "name": "python",
   "nbconvert_exporter": "python",
   "pygments_lexer": "ipython3",
   "version": "3.11.5"
  }
 },
 "nbformat": 4,
 "nbformat_minor": 2
}
